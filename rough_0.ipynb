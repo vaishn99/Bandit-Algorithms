{
 "cells": [
  {
   "cell_type": "code",
   "execution_count": 2,
   "metadata": {},
   "outputs": [],
   "source": [
    "import numpy as np"
   ]
  },
  {
   "cell_type": "code",
   "execution_count": 8,
   "metadata": {},
   "outputs": [],
   "source": [
    "A=np.array([[1,2,3],[2,3,4],[4,5,6]])\n",
    "Avg=np.average(A,axis=0)\n",
    "STD=np.sqrt(np.var(A,axis=0))\n",
    "mean=Avg\n",
    "LCB=Avg-STD\n",
    "UCB=Avg+STD\n",
    "\n",
    "\n",
    "\n"
   ]
  }
 ],
 "metadata": {
  "kernelspec": {
   "display_name": "Python 3.10.6 ('base')",
   "language": "python",
   "name": "python3"
  },
  "language_info": {
   "codemirror_mode": {
    "name": "ipython",
    "version": 3
   },
   "file_extension": ".py",
   "mimetype": "text/x-python",
   "name": "python",
   "nbconvert_exporter": "python",
   "pygments_lexer": "ipython3",
   "version": "3.10.6"
  },
  "orig_nbformat": 4,
  "vscode": {
   "interpreter": {
    "hash": "6e872db74701285375ebfb9105b0c126cac10abb2bffaae3e8afd313f1cce9cb"
   }
  }
 },
 "nbformat": 4,
 "nbformat_minor": 2
}
